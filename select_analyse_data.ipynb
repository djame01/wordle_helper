{
 "cells": [
  {
   "cell_type": "code",
   "execution_count": 108,
   "outputs": [
    {
     "name": "stdout",
     "output_type": "stream",
     "text": [
      "       word  length  1  2  3  4  5\n",
      "0     ABACA       5  A  B  A  C  A\n",
      "1     ABACK       5  A  B  A  C  K\n",
      "2     ABADA       5  A  B  A  D  A\n",
      "3     ABAFT       5  A  B  A  F  T\n",
      "4     ABAND       5  A  B  A  N  D\n",
      "...     ...     ... .. .. .. .. ..\n",
      "6010  ZUCHE       5  Z  U  C  H  E\n",
      "6011  ZUIAN       5  Z  U  I  A  N\n",
      "6012  ZULUS       5  Z  U  L  U  S\n",
      "6013  ZUNIS       5  Z  U  N  I  S\n",
      "6014  ZYMIC       5  Z  Y  M  I  C\n",
      "\n",
      "[6015 rows x 7 columns]\n"
     ]
    }
   ],
   "source": [
    "import pandas as pd\n",
    "\n",
    "location_of_csv_files = \"data/\"\n",
    "#length = input(\"Select the length of word to analyse:\")         # Select the length of word to analyse\n",
    "length = str(5)\n",
    "df = pd.read_csv(location_of_csv_files + f\"word_length_\" + length + \"_as_characters.csv\")\n",
    "print(df)\n",
    "df_char_word = df.iloc [: , 2: ]\n"
   ],
   "metadata": {
    "collapsed": false,
    "pycharm": {
     "name": "#%%\n"
    }
   }
  },
  {
   "cell_type": "code",
   "execution_count": 105,
   "outputs": [
    {
     "data": {
      "text/plain": "     1    2    3      4       5\nA  404  912  641  552.0   340.0\nB  395   42  150   67.0    30.0\nC  469   99  161  276.0   103.0\nD  262   45  194  188.0   321.0\nE  183  727  464  850.0  1170.0\nF  302   17   66   74.0    52.0\nG  277   38  196  182.0    69.0\nH  196  325   46   89.0   253.0\nI  100  542  543  521.0    61.0\nJ   76    3    8    6.0     NaN\nK   98   35   77  128.0   178.0\nL  240  409  352  398.0   416.0\nM  315   96  198  174.0   131.0\nN  143  210  394  390.0   400.0\nO  122  824  520  343.0   178.0\nP  385  139  160  139.0    93.0\nQ   55   10    8    NaN     NaN\nR  258  555  536  401.0   445.0\nS  859   54  235  368.0   341.0\nT  379  168  310  352.0   526.0\nU  115  503  351  244.0    34.0\nV  114   37  130  107.0     NaN\nW  183   83  101   62.0    59.0\nX   11   28   39    4.0    45.0\nY   43  101   93   44.0   763.0\nZ   31   13   42   56.0     7.0",
      "text/html": "<div>\n<style scoped>\n    .dataframe tbody tr th:only-of-type {\n        vertical-align: middle;\n    }\n\n    .dataframe tbody tr th {\n        vertical-align: top;\n    }\n\n    .dataframe thead th {\n        text-align: right;\n    }\n</style>\n<table border=\"1\" class=\"dataframe\">\n  <thead>\n    <tr style=\"text-align: right;\">\n      <th></th>\n      <th>1</th>\n      <th>2</th>\n      <th>3</th>\n      <th>4</th>\n      <th>5</th>\n    </tr>\n  </thead>\n  <tbody>\n    <tr>\n      <th>A</th>\n      <td>404</td>\n      <td>912</td>\n      <td>641</td>\n      <td>552.0</td>\n      <td>340.0</td>\n    </tr>\n    <tr>\n      <th>B</th>\n      <td>395</td>\n      <td>42</td>\n      <td>150</td>\n      <td>67.0</td>\n      <td>30.0</td>\n    </tr>\n    <tr>\n      <th>C</th>\n      <td>469</td>\n      <td>99</td>\n      <td>161</td>\n      <td>276.0</td>\n      <td>103.0</td>\n    </tr>\n    <tr>\n      <th>D</th>\n      <td>262</td>\n      <td>45</td>\n      <td>194</td>\n      <td>188.0</td>\n      <td>321.0</td>\n    </tr>\n    <tr>\n      <th>E</th>\n      <td>183</td>\n      <td>727</td>\n      <td>464</td>\n      <td>850.0</td>\n      <td>1170.0</td>\n    </tr>\n    <tr>\n      <th>F</th>\n      <td>302</td>\n      <td>17</td>\n      <td>66</td>\n      <td>74.0</td>\n      <td>52.0</td>\n    </tr>\n    <tr>\n      <th>G</th>\n      <td>277</td>\n      <td>38</td>\n      <td>196</td>\n      <td>182.0</td>\n      <td>69.0</td>\n    </tr>\n    <tr>\n      <th>H</th>\n      <td>196</td>\n      <td>325</td>\n      <td>46</td>\n      <td>89.0</td>\n      <td>253.0</td>\n    </tr>\n    <tr>\n      <th>I</th>\n      <td>100</td>\n      <td>542</td>\n      <td>543</td>\n      <td>521.0</td>\n      <td>61.0</td>\n    </tr>\n    <tr>\n      <th>J</th>\n      <td>76</td>\n      <td>3</td>\n      <td>8</td>\n      <td>6.0</td>\n      <td>NaN</td>\n    </tr>\n    <tr>\n      <th>K</th>\n      <td>98</td>\n      <td>35</td>\n      <td>77</td>\n      <td>128.0</td>\n      <td>178.0</td>\n    </tr>\n    <tr>\n      <th>L</th>\n      <td>240</td>\n      <td>409</td>\n      <td>352</td>\n      <td>398.0</td>\n      <td>416.0</td>\n    </tr>\n    <tr>\n      <th>M</th>\n      <td>315</td>\n      <td>96</td>\n      <td>198</td>\n      <td>174.0</td>\n      <td>131.0</td>\n    </tr>\n    <tr>\n      <th>N</th>\n      <td>143</td>\n      <td>210</td>\n      <td>394</td>\n      <td>390.0</td>\n      <td>400.0</td>\n    </tr>\n    <tr>\n      <th>O</th>\n      <td>122</td>\n      <td>824</td>\n      <td>520</td>\n      <td>343.0</td>\n      <td>178.0</td>\n    </tr>\n    <tr>\n      <th>P</th>\n      <td>385</td>\n      <td>139</td>\n      <td>160</td>\n      <td>139.0</td>\n      <td>93.0</td>\n    </tr>\n    <tr>\n      <th>Q</th>\n      <td>55</td>\n      <td>10</td>\n      <td>8</td>\n      <td>NaN</td>\n      <td>NaN</td>\n    </tr>\n    <tr>\n      <th>R</th>\n      <td>258</td>\n      <td>555</td>\n      <td>536</td>\n      <td>401.0</td>\n      <td>445.0</td>\n    </tr>\n    <tr>\n      <th>S</th>\n      <td>859</td>\n      <td>54</td>\n      <td>235</td>\n      <td>368.0</td>\n      <td>341.0</td>\n    </tr>\n    <tr>\n      <th>T</th>\n      <td>379</td>\n      <td>168</td>\n      <td>310</td>\n      <td>352.0</td>\n      <td>526.0</td>\n    </tr>\n    <tr>\n      <th>U</th>\n      <td>115</td>\n      <td>503</td>\n      <td>351</td>\n      <td>244.0</td>\n      <td>34.0</td>\n    </tr>\n    <tr>\n      <th>V</th>\n      <td>114</td>\n      <td>37</td>\n      <td>130</td>\n      <td>107.0</td>\n      <td>NaN</td>\n    </tr>\n    <tr>\n      <th>W</th>\n      <td>183</td>\n      <td>83</td>\n      <td>101</td>\n      <td>62.0</td>\n      <td>59.0</td>\n    </tr>\n    <tr>\n      <th>X</th>\n      <td>11</td>\n      <td>28</td>\n      <td>39</td>\n      <td>4.0</td>\n      <td>45.0</td>\n    </tr>\n    <tr>\n      <th>Y</th>\n      <td>43</td>\n      <td>101</td>\n      <td>93</td>\n      <td>44.0</td>\n      <td>763.0</td>\n    </tr>\n    <tr>\n      <th>Z</th>\n      <td>31</td>\n      <td>13</td>\n      <td>42</td>\n      <td>56.0</td>\n      <td>7.0</td>\n    </tr>\n  </tbody>\n</table>\n</div>"
     },
     "execution_count": 105,
     "metadata": {},
     "output_type": "execute_result"
    }
   ],
   "source": [
    "df_alphabet_occurrence = pd.DataFrame()\n",
    "for col_label, col in df_char_word.iteritems():\n",
    "    column_to_add = df_char_word.groupby(col_label).size()    # DataFrame of counted objects of the same type\n",
    "    column_to_add = column_to_add.to_frame(name=col_label)\n",
    "    df_alphabet_occurrence = pd.concat([df_alphabet_occurrence, column_to_add], axis=1)\n",
    "df_alphabet_occurrence"
   ],
   "metadata": {
    "collapsed": false,
    "pycharm": {
     "name": "#%%\n"
    }
   }
  },
  {
   "cell_type": "code",
   "execution_count": 106,
   "outputs": [],
   "source": [
    "df_alphabet_occurrence[\"Totals\"] = df_alphabet_occurrence.sum(axis=1)       # Adds up data in the row"
   ],
   "metadata": {
    "collapsed": false,
    "pycharm": {
     "name": "#%%\n"
    }
   }
  },
  {
   "cell_type": "code",
   "execution_count": 107,
   "outputs": [
    {
     "data": {
      "text/plain": "     1    2    3      4       5  Totals\nA  404  912  641  552.0   340.0  2849.0\nB  395   42  150   67.0    30.0   684.0\nC  469   99  161  276.0   103.0  1108.0\nD  262   45  194  188.0   321.0  1010.0\nE  183  727  464  850.0  1170.0  3394.0\nF  302   17   66   74.0    52.0   511.0\nG  277   38  196  182.0    69.0   762.0\nH  196  325   46   89.0   253.0   909.0\nI  100  542  543  521.0    61.0  1767.0\nJ   76    3    8    6.0     NaN    93.0\nK   98   35   77  128.0   178.0   516.0\nL  240  409  352  398.0   416.0  1815.0\nM  315   96  198  174.0   131.0   914.0\nN  143  210  394  390.0   400.0  1537.0\nO  122  824  520  343.0   178.0  1987.0\nP  385  139  160  139.0    93.0   916.0\nQ   55   10    8    NaN     NaN    73.0\nR  258  555  536  401.0   445.0  2195.0\nS  859   54  235  368.0   341.0  1857.0\nT  379  168  310  352.0   526.0  1735.0\nU  115  503  351  244.0    34.0  1247.0\nV  114   37  130  107.0     NaN   388.0\nW  183   83  101   62.0    59.0   488.0\nX   11   28   39    4.0    45.0   127.0\nY   43  101   93   44.0   763.0  1044.0\nZ   31   13   42   56.0     7.0   149.0",
      "text/html": "<div>\n<style scoped>\n    .dataframe tbody tr th:only-of-type {\n        vertical-align: middle;\n    }\n\n    .dataframe tbody tr th {\n        vertical-align: top;\n    }\n\n    .dataframe thead th {\n        text-align: right;\n    }\n</style>\n<table border=\"1\" class=\"dataframe\">\n  <thead>\n    <tr style=\"text-align: right;\">\n      <th></th>\n      <th>1</th>\n      <th>2</th>\n      <th>3</th>\n      <th>4</th>\n      <th>5</th>\n      <th>Totals</th>\n    </tr>\n  </thead>\n  <tbody>\n    <tr>\n      <th>A</th>\n      <td>404</td>\n      <td>912</td>\n      <td>641</td>\n      <td>552.0</td>\n      <td>340.0</td>\n      <td>2849.0</td>\n    </tr>\n    <tr>\n      <th>B</th>\n      <td>395</td>\n      <td>42</td>\n      <td>150</td>\n      <td>67.0</td>\n      <td>30.0</td>\n      <td>684.0</td>\n    </tr>\n    <tr>\n      <th>C</th>\n      <td>469</td>\n      <td>99</td>\n      <td>161</td>\n      <td>276.0</td>\n      <td>103.0</td>\n      <td>1108.0</td>\n    </tr>\n    <tr>\n      <th>D</th>\n      <td>262</td>\n      <td>45</td>\n      <td>194</td>\n      <td>188.0</td>\n      <td>321.0</td>\n      <td>1010.0</td>\n    </tr>\n    <tr>\n      <th>E</th>\n      <td>183</td>\n      <td>727</td>\n      <td>464</td>\n      <td>850.0</td>\n      <td>1170.0</td>\n      <td>3394.0</td>\n    </tr>\n    <tr>\n      <th>F</th>\n      <td>302</td>\n      <td>17</td>\n      <td>66</td>\n      <td>74.0</td>\n      <td>52.0</td>\n      <td>511.0</td>\n    </tr>\n    <tr>\n      <th>G</th>\n      <td>277</td>\n      <td>38</td>\n      <td>196</td>\n      <td>182.0</td>\n      <td>69.0</td>\n      <td>762.0</td>\n    </tr>\n    <tr>\n      <th>H</th>\n      <td>196</td>\n      <td>325</td>\n      <td>46</td>\n      <td>89.0</td>\n      <td>253.0</td>\n      <td>909.0</td>\n    </tr>\n    <tr>\n      <th>I</th>\n      <td>100</td>\n      <td>542</td>\n      <td>543</td>\n      <td>521.0</td>\n      <td>61.0</td>\n      <td>1767.0</td>\n    </tr>\n    <tr>\n      <th>J</th>\n      <td>76</td>\n      <td>3</td>\n      <td>8</td>\n      <td>6.0</td>\n      <td>NaN</td>\n      <td>93.0</td>\n    </tr>\n    <tr>\n      <th>K</th>\n      <td>98</td>\n      <td>35</td>\n      <td>77</td>\n      <td>128.0</td>\n      <td>178.0</td>\n      <td>516.0</td>\n    </tr>\n    <tr>\n      <th>L</th>\n      <td>240</td>\n      <td>409</td>\n      <td>352</td>\n      <td>398.0</td>\n      <td>416.0</td>\n      <td>1815.0</td>\n    </tr>\n    <tr>\n      <th>M</th>\n      <td>315</td>\n      <td>96</td>\n      <td>198</td>\n      <td>174.0</td>\n      <td>131.0</td>\n      <td>914.0</td>\n    </tr>\n    <tr>\n      <th>N</th>\n      <td>143</td>\n      <td>210</td>\n      <td>394</td>\n      <td>390.0</td>\n      <td>400.0</td>\n      <td>1537.0</td>\n    </tr>\n    <tr>\n      <th>O</th>\n      <td>122</td>\n      <td>824</td>\n      <td>520</td>\n      <td>343.0</td>\n      <td>178.0</td>\n      <td>1987.0</td>\n    </tr>\n    <tr>\n      <th>P</th>\n      <td>385</td>\n      <td>139</td>\n      <td>160</td>\n      <td>139.0</td>\n      <td>93.0</td>\n      <td>916.0</td>\n    </tr>\n    <tr>\n      <th>Q</th>\n      <td>55</td>\n      <td>10</td>\n      <td>8</td>\n      <td>NaN</td>\n      <td>NaN</td>\n      <td>73.0</td>\n    </tr>\n    <tr>\n      <th>R</th>\n      <td>258</td>\n      <td>555</td>\n      <td>536</td>\n      <td>401.0</td>\n      <td>445.0</td>\n      <td>2195.0</td>\n    </tr>\n    <tr>\n      <th>S</th>\n      <td>859</td>\n      <td>54</td>\n      <td>235</td>\n      <td>368.0</td>\n      <td>341.0</td>\n      <td>1857.0</td>\n    </tr>\n    <tr>\n      <th>T</th>\n      <td>379</td>\n      <td>168</td>\n      <td>310</td>\n      <td>352.0</td>\n      <td>526.0</td>\n      <td>1735.0</td>\n    </tr>\n    <tr>\n      <th>U</th>\n      <td>115</td>\n      <td>503</td>\n      <td>351</td>\n      <td>244.0</td>\n      <td>34.0</td>\n      <td>1247.0</td>\n    </tr>\n    <tr>\n      <th>V</th>\n      <td>114</td>\n      <td>37</td>\n      <td>130</td>\n      <td>107.0</td>\n      <td>NaN</td>\n      <td>388.0</td>\n    </tr>\n    <tr>\n      <th>W</th>\n      <td>183</td>\n      <td>83</td>\n      <td>101</td>\n      <td>62.0</td>\n      <td>59.0</td>\n      <td>488.0</td>\n    </tr>\n    <tr>\n      <th>X</th>\n      <td>11</td>\n      <td>28</td>\n      <td>39</td>\n      <td>4.0</td>\n      <td>45.0</td>\n      <td>127.0</td>\n    </tr>\n    <tr>\n      <th>Y</th>\n      <td>43</td>\n      <td>101</td>\n      <td>93</td>\n      <td>44.0</td>\n      <td>763.0</td>\n      <td>1044.0</td>\n    </tr>\n    <tr>\n      <th>Z</th>\n      <td>31</td>\n      <td>13</td>\n      <td>42</td>\n      <td>56.0</td>\n      <td>7.0</td>\n      <td>149.0</td>\n    </tr>\n  </tbody>\n</table>\n</div>"
     },
     "execution_count": 107,
     "metadata": {},
     "output_type": "execute_result"
    }
   ],
   "source": [
    "df_alphabet_occurrence"
   ],
   "metadata": {
    "collapsed": false,
    "pycharm": {
     "name": "#%%\n"
    }
   }
  },
  {
   "cell_type": "code",
   "execution_count": null,
   "outputs": [],
   "source": [],
   "metadata": {
    "collapsed": false,
    "pycharm": {
     "name": "#%%\n"
    }
   }
  }
 ],
 "metadata": {
  "kernelspec": {
   "display_name": "Python 3",
   "language": "python",
   "name": "python3"
  },
  "language_info": {
   "codemirror_mode": {
    "name": "ipython",
    "version": 2
   },
   "file_extension": ".py",
   "mimetype": "text/x-python",
   "name": "python",
   "nbconvert_exporter": "python",
   "pygments_lexer": "ipython2",
   "version": "2.7.6"
  }
 },
 "nbformat": 4,
 "nbformat_minor": 0
}